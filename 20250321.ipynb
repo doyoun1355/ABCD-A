{
  "nbformat": 4,
  "nbformat_minor": 0,
  "metadata": {
    "colab": {
      "provenance": [],
      "authorship_tag": "ABX9TyOzGsI4y0mUWsxK2XPwQ3+y",
      "include_colab_link": true
    },
    "kernelspec": {
      "name": "python3",
      "display_name": "Python 3"
    },
    "language_info": {
      "name": "python"
    }
  },
  "cells": [
    {
      "cell_type": "markdown",
      "metadata": {
        "id": "view-in-github",
        "colab_type": "text"
      },
      "source": [
        "<a href=\"https://colab.research.google.com/github/doyoun1355/ABCD-A/blob/20250321/20250321.ipynb\" target=\"_parent\"><img src=\"https://colab.research.google.com/assets/colab-badge.svg\" alt=\"Open In Colab\"/></a>"
      ]
    },
    {
      "cell_type": "code",
      "execution_count": null,
      "metadata": {
        "colab": {
          "base_uri": "https://localhost:8080/"
        },
        "id": "y4_mtDEkB1DW",
        "outputId": "65833dc4-2680-4fda-c64b-f2707f77d377"
      },
      "outputs": [
        {
          "output_type": "stream",
          "name": "stdout",
          "text": [
            "1.3333333333333333\n"
          ]
        }
      ],
      "source": [
        "a = 4\n",
        "b = 3\n",
        "\n",
        "c = 1\n",
        "d = 2\n",
        "print(a/b)\n",
        "print(c/d)"
      ]
    },
    {
      "cell_type": "code",
      "source": [
        "e = 7\n",
        "f = 3\n",
        "print(e//f) #몫\n",
        "print(e%f) #나머지\n",
        "\n",
        "print(e**f)"
      ],
      "metadata": {
        "colab": {
          "base_uri": "https://localhost:8080/"
        },
        "id": "QQR0Ri1MC4EP",
        "outputId": "38abc2ff-a29b-42ca-ac27-5ba4d25727ed"
      },
      "execution_count": null,
      "outputs": [
        {
          "output_type": "stream",
          "name": "stdout",
          "text": [
            "2\n",
            "1\n",
            "343\n"
          ]
        }
      ]
    },
    {
      "cell_type": "code",
      "source": [
        "quotient, remainder = divmod(5,2)\n",
        "print(quotient, remainder)"
      ],
      "metadata": {
        "colab": {
          "base_uri": "https://localhost:8080/"
        },
        "id": "1iHfu5ZzEK7K",
        "outputId": "77c5897d-564f-486f-87be-b6c0fc177a64"
      },
      "execution_count": null,
      "outputs": [
        {
          "output_type": "stream",
          "name": "stdout",
          "text": [
            "2 1\n"
          ]
        }
      ]
    },
    {
      "cell_type": "code",
      "source": [
        "a = 11 + 2\n",
        "b = 12 - 2\n",
        "c = 13 * 2\n",
        "d = 14 / 2\n",
        "e = 15 ** 2\n",
        "f = 16 // 2\n",
        "g = 17 % 3\n",
        "\n",
        "print(a, b, c, d, e, f, g)"
      ],
      "metadata": {
        "colab": {
          "base_uri": "https://localhost:8080/"
        },
        "id": "P1ftaxBSE0YH",
        "outputId": "583c9c47-4fd9-4c67-8f77-6de2b4d4e447"
      },
      "execution_count": null,
      "outputs": [
        {
          "output_type": "stream",
          "name": "stdout",
          "text": [
            "13 10 26 7.0 225 8 2\n"
          ]
        }
      ]
    },
    {
      "cell_type": "code",
      "source": [
        "i = 3\n",
        "i += 3\n",
        "print(i)\n",
        "\n",
        "i -= 3\n",
        "print(i)\n",
        "\n",
        "i *= 3\n",
        "print(i)\n",
        "\n",
        "i /= 3\n",
        "print(int(i))\n",
        "\n",
        "i //= 3\n",
        "print(i)\n",
        "\n",
        "i %= 3\n",
        "print(i)\n",
        "\n",
        "i**= 3\n",
        "print(i)"
      ],
      "metadata": {
        "id": "XsvboEiTIUnO",
        "colab": {
          "base_uri": "https://localhost:8080/"
        },
        "outputId": "910130e5-cf29-4696-cb6c-61382e9726a0"
      },
      "execution_count": 8,
      "outputs": [
        {
          "output_type": "stream",
          "name": "stdout",
          "text": [
            "6\n",
            "3\n",
            "9\n",
            "3\n",
            "1.0\n",
            "1.0\n",
            "1.0\n"
          ]
        }
      ]
    },
    {
      "cell_type": "code",
      "source": [
        "a = 10\n",
        "b = 3\n",
        "print(\"10 == 3 =>\", a == b)\n",
        "print(\"10 != 3 =>\", a != b)\n",
        "print(\"10 > 3 =>\", a > b)\n",
        "print(\"10 >= 3 =>\", a >= b)\n",
        "print(\"10 < 3 =>\", a < b)\n",
        "print(\"10 <= 3 =>\", a <= b)\n",
        "print()"
      ],
      "metadata": {
        "id": "hs8C4bLJL-Vh",
        "outputId": "10864fc7-575d-4219-83d6-feb3e68eb03a",
        "colab": {
          "base_uri": "https://localhost:8080/"
        }
      },
      "execution_count": 9,
      "outputs": [
        {
          "output_type": "stream",
          "name": "stdout",
          "text": [
            "10 == 3 => False\n",
            "10 != 3 => True\n",
            "10 > 3 => True\n",
            "10 >= 3 => True\n",
            "10 < 3 => False\n",
            "10 <= 3 => False\n",
            "\n"
          ]
        }
      ]
    },
    {
      "cell_type": "code",
      "source": [
        "a = 13\n",
        "print(bin(a)) # 10진수 13을 2진수로 변환\n",
        "print(hex(a))\n",
        "int('1101', 2)"
      ],
      "metadata": {
        "id": "3pno5So6M9xi",
        "outputId": "8bc0e340-c012-49a3-ddf9-4426229bdc0e",
        "colab": {
          "base_uri": "https://localhost:8080/"
        }
      },
      "execution_count": 13,
      "outputs": [
        {
          "output_type": "stream",
          "name": "stdout",
          "text": [
            "0b1101\n",
            "0xd\n"
          ]
        },
        {
          "output_type": "execute_result",
          "data": {
            "text/plain": [
              "13"
            ]
          },
          "metadata": {},
          "execution_count": 13
        }
      ]
    },
    {
      "cell_type": "code",
      "source": [
        "a = 13\n",
        "b = 9\n",
        "print(bin(a))\n",
        "print(bin(b))\n",
        "print(bin(a & b))\n",
        "print(' ')\n",
        "print(a & b)"
      ],
      "metadata": {
        "id": "AONMs9fQOsN1",
        "outputId": "73ec731a-a89d-4df8-eff9-9efb97792764",
        "colab": {
          "base_uri": "https://localhost:8080/"
        }
      },
      "execution_count": 20,
      "outputs": [
        {
          "output_type": "stream",
          "name": "stdout",
          "text": [
            "0b1101\n",
            "0b1001\n",
            "0b1001\n",
            " \n",
            "9\n"
          ]
        }
      ]
    },
    {
      "cell_type": "code",
      "source": [
        "a = 13\n",
        "b = 9\n",
        "print(bin(a))\n",
        "print(bin(b))\n",
        "print(bin(a | b))\n",
        "print(' ')\n",
        "print(a | b)"
      ],
      "metadata": {
        "id": "18goGYrtPLeL",
        "outputId": "2845ee4a-071b-481c-9180-7921d5fc2b00",
        "colab": {
          "base_uri": "https://localhost:8080/"
        }
      },
      "execution_count": 21,
      "outputs": [
        {
          "output_type": "stream",
          "name": "stdout",
          "text": [
            "0b1101\n",
            "0b1001\n",
            "0b1101\n",
            " \n",
            "13\n"
          ]
        }
      ]
    },
    {
      "cell_type": "code",
      "source": [
        "a = 13\n",
        "b = 9\n",
        "print(bin(a))\n",
        "print(bin(b))\n",
        "print(bin(a ^ b))\n",
        "print(' ')\n",
        "print(a ^ b)"
      ],
      "metadata": {
        "id": "8PYpsovvQId4"
      },
      "execution_count": null,
      "outputs": []
    },
    {
      "cell_type": "code",
      "source": [
        "a = 13\n",
        "b = 9\n",
        "print(bin(a))\n",
        "print(bin(b))\n",
        "print(' ')\n",
        "print(bin(a))\n",
        "print(bin(~a))"
      ],
      "metadata": {
        "id": "z2ibMMDOQOCz",
        "outputId": "b86ef440-58e0-4425-dbda-7e72f068c520",
        "colab": {
          "base_uri": "https://localhost:8080/"
        }
      },
      "execution_count": 24,
      "outputs": [
        {
          "output_type": "stream",
          "name": "stdout",
          "text": [
            "0b1101\n",
            "0b1001\n",
            " \n",
            "0b1101\n",
            "-0b1110\n"
          ]
        }
      ]
    }
  ]
}