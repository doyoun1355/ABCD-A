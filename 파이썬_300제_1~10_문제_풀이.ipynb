{
  "nbformat": 4,
  "nbformat_minor": 0,
  "metadata": {
    "colab": {
      "provenance": [],
      "authorship_tag": "ABX9TyPxnGyGyBiR5kzD5pOrcwyi",
      "include_colab_link": true
    },
    "kernelspec": {
      "name": "python3",
      "display_name": "Python 3"
    },
    "language_info": {
      "name": "python"
    }
  },
  "cells": [
    {
      "cell_type": "markdown",
      "metadata": {
        "id": "view-in-github",
        "colab_type": "text"
      },
      "source": [
        "<a href=\"https://colab.research.google.com/github/doyoun1355/ABCD-A/blob/20250310/%ED%8C%8C%EC%9D%B4%EC%8D%AC_300%EC%A0%9C_1~10_%EB%AC%B8%EC%A0%9C_%ED%92%80%EC%9D%B4.ipynb\" target=\"_parent\"><img src=\"https://colab.research.google.com/assets/colab-badge.svg\" alt=\"Open In Colab\"/></a>"
      ]
    },
    {
      "cell_type": "code",
      "execution_count": 1,
      "metadata": {
        "colab": {
          "base_uri": "https://localhost:8080/"
        },
        "id": "Mc0jooVd4bVF",
        "outputId": "8274e14b-b85c-489d-ad22-4b2321f8bb1c"
      },
      "outputs": [
        {
          "output_type": "stream",
          "name": "stdout",
          "text": [
            "hello world\n"
          ]
        }
      ],
      "source": [
        "#문제1\n",
        "print('hello world')"
      ]
    },
    {
      "cell_type": "code",
      "source": [
        "#문제2\n",
        "print(\"mary's cosmetics\")"
      ],
      "metadata": {
        "colab": {
          "base_uri": "https://localhost:8080/"
        },
        "id": "5QAKRO8F4l9V",
        "outputId": "7d471f73-fbcd-4bd0-e5d7-2b9beba20a82"
      },
      "execution_count": 2,
      "outputs": [
        {
          "output_type": "stream",
          "name": "stdout",
          "text": [
            "mary's cosmetics\n"
          ]
        }
      ]
    },
    {
      "cell_type": "code",
      "source": [
        "#문제3\n",
        "print('신씨가 소리질렀다, \"도둑이야\".')"
      ],
      "metadata": {
        "colab": {
          "base_uri": "https://localhost:8080/"
        },
        "id": "cA5iej2K400L",
        "outputId": "ed80d0e2-d722-48c9-8dff-2f8154957eb2"
      },
      "execution_count": 6,
      "outputs": [
        {
          "output_type": "stream",
          "name": "stdout",
          "text": [
            "신씨가 소리질렀다, \"도둑이야\".\n"
          ]
        }
      ]
    },
    {
      "cell_type": "code",
      "source": [
        "#문제4\n",
        "print('\"c:\\windows\"')\n",
        "#\\n, \\t등의 의미를 가진 \\를 조심하여 사용할것 \\\\n~ \\\\t등으로 입력하기"
      ],
      "metadata": {
        "colab": {
          "base_uri": "https://localhost:8080/"
        },
        "id": "bplfRq8k5EA3",
        "outputId": "45868090-e92a-49cb-c461-df13f762a1d1"
      },
      "execution_count": 7,
      "outputs": [
        {
          "output_type": "stream",
          "name": "stdout",
          "text": [
            "\"c:\\windows\"\n"
          ]
        }
      ]
    },
    {
      "cell_type": "code",
      "source": [
        "#문제5\n",
        "print(\"안녕하세요.\\n만나서\\t\\t반갑습니다.\")\n",
        "\n",
        "#\\n은 줄바꿈, \\t는 공백을 만든다"
      ],
      "metadata": {
        "colab": {
          "base_uri": "https://localhost:8080/"
        },
        "id": "BxnoGXqq6XOC",
        "outputId": "4d1e9a99-a9a9-4c34-e729-e66d9e6dd166"
      },
      "execution_count": 15,
      "outputs": [
        {
          "output_type": "stream",
          "name": "stdout",
          "text": [
            "안녕하세요.\n",
            "만나서\t\t반        갑습니다.\n"
          ]
        }
      ]
    },
    {
      "cell_type": "code",
      "source": [
        "#문제6\n",
        "print(\"오늘은\", \"일요일\")\n",
        "#오늘은 일요일, 이렇게 나오는 이유는 ,로 연결할 경우 공백이 생기기 때문이다."
      ],
      "metadata": {
        "colab": {
          "base_uri": "https://localhost:8080/"
        },
        "id": "E8qsv0kN6gSb",
        "outputId": "bd0b7d29-115b-46c8-aadc-25e371fe296e"
      },
      "execution_count": 16,
      "outputs": [
        {
          "output_type": "stream",
          "name": "stdout",
          "text": [
            "오늘은 일요일\n"
          ]
        }
      ]
    },
    {
      "cell_type": "code",
      "source": [
        "#문제7\n",
        "print('naver;kakao;sk;samsung')"
      ],
      "metadata": {
        "colab": {
          "base_uri": "https://localhost:8080/"
        },
        "id": "RU_kotvP9GqL",
        "outputId": "87029b4c-7249-4d8e-a436-76fcc7d0851b"
      },
      "execution_count": 19,
      "outputs": [
        {
          "output_type": "stream",
          "name": "stdout",
          "text": [
            "naver;kakao;sk;samsung\n"
          ]
        }
      ]
    },
    {
      "cell_type": "code",
      "source": [
        "#문제8\n",
        "print('naver/kakao/sk/samsung')"
      ],
      "metadata": {
        "colab": {
          "base_uri": "https://localhost:8080/"
        },
        "id": "t4s8gXkbAm0B",
        "outputId": "aaddf91d-97ba-47fd-8cdf-f623c0cb2989"
      },
      "execution_count": 21,
      "outputs": [
        {
          "output_type": "stream",
          "name": "stdout",
          "text": [
            "naver/kakao/sk/samsung\n"
          ]
        }
      ]
    },
    {
      "cell_type": "code",
      "source": [
        "#문제9\n",
        "print(\"first\", end='');print(\"second\")"
      ],
      "metadata": {
        "colab": {
          "base_uri": "https://localhost:8080/"
        },
        "id": "KtQg0LVuArdq",
        "outputId": "45e85d2e-6a3f-4d57-bff4-6331480da89b"
      },
      "execution_count": 24,
      "outputs": [
        {
          "output_type": "stream",
          "name": "stdout",
          "text": [
            "firstsecond\n"
          ]
        }
      ]
    },
    {
      "cell_type": "code",
      "source": [
        "#문제10\n",
        "print(5/3)"
      ],
      "metadata": {
        "colab": {
          "base_uri": "https://localhost:8080/"
        },
        "id": "w4EQMjRjBlZC",
        "outputId": "efd4b419-628b-4014-b6d4-a11fb2a83b8c"
      },
      "execution_count": 27,
      "outputs": [
        {
          "output_type": "stream",
          "name": "stdout",
          "text": [
            "1.6666666666666667\n"
          ]
        }
      ]
    }
  ]
}