{
  "nbformat": 4,
  "nbformat_minor": 0,
  "metadata": {
    "colab": {
      "provenance": [],
      "authorship_tag": "ABX9TyM/zbIGO60vUsSIerRUSItq",
      "include_colab_link": true
    },
    "kernelspec": {
      "name": "python3",
      "display_name": "Python 3"
    },
    "language_info": {
      "name": "python"
    }
  },
  "cells": [
    {
      "cell_type": "markdown",
      "metadata": {
        "id": "view-in-github",
        "colab_type": "text"
      },
      "source": [
        "<a href=\"https://colab.research.google.com/github/doyoun1355/ABCD-A/blob/20250328/%ED%8C%8C%EC%9D%B4%EC%8D%AC300%EC%A0%9C_11_14_%EB%AC%B8%EC%A0%9C%ED%92%80%EC%9D%B4.ipynb\" target=\"_parent\"><img src=\"https://colab.research.google.com/assets/colab-badge.svg\" alt=\"Open In Colab\"/></a>"
      ]
    },
    {
      "cell_type": "code",
      "execution_count": 3,
      "metadata": {
        "id": "9zftNR7rC3T0",
        "colab": {
          "base_uri": "https://localhost:8080/"
        },
        "outputId": "0ad75be7-8244-45b9-df11-952d6bfd64ce"
      },
      "outputs": [
        {
          "output_type": "stream",
          "name": "stdout",
          "text": [
            "총 평가금액 500000\n"
          ]
        }
      ],
      "source": [
        "삼성전자 = 50000\n",
        "주 = 10\n",
        "print(\"총 평가금액\",삼성전자*주)\n"
      ]
    },
    {
      "cell_type": "code",
      "source": [
        "a = '298조'\n",
        "b = '50000원'\n",
        "c = 15.79\n",
        "\n",
        "print(\"시가총액 =\",a)\n",
        "print(\"현재가 =\",b)\n",
        "print(\"PER =\",15.79)"
      ],
      "metadata": {
        "colab": {
          "base_uri": "https://localhost:8080/"
        },
        "id": "xrib6X1NF63-",
        "outputId": "efdad903-e393-4629-ff47-f5f345980fdf"
      },
      "execution_count": 11,
      "outputs": [
        {
          "output_type": "stream",
          "name": "stdout",
          "text": [
            "시가총액 = 298조\n",
            "현재가 = 50000원\n",
            "PER = 15.79\n"
          ]
        }
      ]
    },
    {
      "cell_type": "code",
      "source": [
        "s = 'hello!'\n",
        "t = 'python'\n",
        "print(s,t)"
      ],
      "metadata": {
        "colab": {
          "base_uri": "https://localhost:8080/"
        },
        "id": "jb8a-FzKILgI",
        "outputId": "bea0d37a-327c-4657-ebdb-198fd35fa501"
      },
      "execution_count": 12,
      "outputs": [
        {
          "output_type": "stream",
          "name": "stdout",
          "text": [
            "hello! python\n"
          ]
        }
      ]
    },
    {
      "cell_type": "code",
      "source": [
        "a = 2\n",
        "b = 3\n",
        "print('2 + 2 * 3 =',a + a * b)"
      ],
      "metadata": {
        "colab": {
          "base_uri": "https://localhost:8080/"
        },
        "id": "aXR6o-wIIawj",
        "outputId": "d74609ad-16a4-4107-d457-f4e5e4306e3e"
      },
      "execution_count": 14,
      "outputs": [
        {
          "output_type": "stream",
          "name": "stdout",
          "text": [
            "2 + 2 * 3 = 8\n"
          ]
        }
      ]
    }
  ]
}