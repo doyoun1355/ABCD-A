{
  "nbformat": 4,
  "nbformat_minor": 0,
  "metadata": {
    "colab": {
      "provenance": [],
      "authorship_tag": "ABX9TyM3TmdE+/EZ/wJk3MRbIyNZ",
      "include_colab_link": true
    },
    "kernelspec": {
      "name": "python3",
      "display_name": "Python 3"
    },
    "language_info": {
      "name": "python"
    }
  },
  "cells": [
    {
      "cell_type": "markdown",
      "metadata": {
        "id": "view-in-github",
        "colab_type": "text"
      },
      "source": [
        "<a href=\"https://colab.research.google.com/github/doyoun1355/ABCD-A/blob/20250328/20250328.ipynb\" target=\"_parent\"><img src=\"https://colab.research.google.com/assets/colab-badge.svg\" alt=\"Open In Colab\"/></a>"
      ]
    },
    {
      "cell_type": "code",
      "execution_count": 1,
      "metadata": {
        "colab": {
          "base_uri": "https://localhost:8080/"
        },
        "id": "CF2vFzGZFzll",
        "outputId": "6f435793-5625-48f1-fd4e-8c35dcaa4640"
      },
      "outputs": [
        {
          "output_type": "stream",
          "name": "stdout",
          "text": [
            "이름이 맞습니다.\n"
          ]
        }
      ],
      "source": [
        "#조건문 사용 예제-1\n",
        "name = \"BlockDMask\"\n",
        "if name == \"BlockDMask\":\n",
        "    print(\"이름이 맞습니다.\")\n",
        "else:\n",
        "    print(\"이름이 다릅니다.\")"
      ]
    },
    {
      "cell_type": "code",
      "source": [
        "#if elif else 예제.\n",
        "pocket = 1000\n",
        "if pocket == 1000:\n",
        "  print(\"복권 구매\")\n",
        "elif pocket == 500:\n",
        "  print(\"껌 구매\")\n",
        "else:\n",
        "  print(\"집이나 가자\")"
      ],
      "metadata": {
        "colab": {
          "base_uri": "https://localhost:8080/"
        },
        "id": "Gj5qx1PWLeDL",
        "outputId": "bd0fe7cf-3988-40e6-c429-31929a6eb62a"
      },
      "execution_count": 6,
      "outputs": [
        {
          "output_type": "stream",
          "name": "stdout",
          "text": [
            "복권 구매\n"
          ]
        }
      ]
    },
    {
      "cell_type": "code",
      "source": [
        "a = \"사과\"\n",
        "b = \"바나나\"\n",
        "c = \"치즈\"\n",
        "if a == \"사과\" or b == \"안바나나\": #true\n",
        "      print(\"사과 이거나 바나나 입니다.\")\n",
        "\n",
        "if a == \"사과\" or b == \"바나나\": #true\n",
        "      print(\"사과이고 바나나 입니다.\")\n",
        "if not a == \"사과\":\n",
        "      print(\"사과가 아니어야 합니다.\")"
      ],
      "metadata": {
        "colab": {
          "base_uri": "https://localhost:8080/"
        },
        "id": "akS2xUhrNMgc",
        "outputId": "b07b2d3a-99be-4979-8359-3ee27be9cc63"
      },
      "execution_count": 12,
      "outputs": [
        {
          "output_type": "stream",
          "name": "stdout",
          "text": [
            "사과 이거나 바나나 입니다.\n",
            "사과이고 바나나 입니다.\n"
          ]
        }
      ]
    },
    {
      "cell_type": "code",
      "source": [
        "a = [1, 2, 3, 4, 5, 6, 7, 8] #튜플\n",
        "if 1 in a:\n",
        "    print(\"1 is in a\")\n",
        "elif 10 in a:\n",
        "    print(\"10 is in a\")"
      ],
      "metadata": {
        "colab": {
          "base_uri": "https://localhost:8080/"
        },
        "id": "UsAOhOkfN84L",
        "outputId": "f1f6253b-b80d-40ee-f905-dc05af316258"
      },
      "execution_count": 14,
      "outputs": [
        {
          "output_type": "stream",
          "name": "stdout",
          "text": [
            "1 is in a\n"
          ]
        }
      ]
    },
    {
      "cell_type": "code",
      "source": [
        "#조건문 사용 예제\n",
        "p_class = \"Z\"\n",
        "sel_amount = 79900\n",
        "\n",
        "if p_class == \"A\":\n",
        "    sel_amount *= 0.7 # 55930.0\n",
        "    print(f'판매가는 {sel_amount}원 입니다.')\n",
        "elif p_class == \"B\": # 67915.0\n",
        "    sel_amount *= 0.85\n",
        "    print(f'판매가는 {sel_amount}원 입니다.')\n",
        "elif p_class == \"C\": # 73508.0\n",
        "    sel_amount *= 0.92\n",
        "    print(f'판매가는 {sel_amount}원 입니다.')\n",
        "elif p_class == \"Z\": # 84911\n",
        "    sel_amount += 5000\n",
        "    print(f'판매가는 {sel_amount}원 입니다.') # 출력 결과: 판매가는 84900원 입니다."
      ],
      "metadata": {
        "colab": {
          "base_uri": "https://localhost:8080/"
        },
        "id": "paKYVj2wPan_",
        "outputId": "83362f7c-c0f6-46bd-a827-305bb8fdcc47"
      },
      "execution_count": 17,
      "outputs": [
        {
          "output_type": "stream",
          "name": "stdout",
          "text": [
            "판매가는 84900원 입니다.\n"
          ]
        }
      ]
    },
    {
      "cell_type": "code",
      "source": [
        "#조건문 사용 예제-4\n",
        "X = 11\n",
        "\n",
        "if X < 10:\n",
        "  print('X는 10보다 작아!')\n",
        "else:\n",
        "  print('X는 10보다 작지 않아!')"
      ],
      "metadata": {
        "colab": {
          "base_uri": "https://localhost:8080/"
        },
        "id": "2273je8DRVN4",
        "outputId": "a7208d6e-6794-4683-dcad-52921fc4fe4b"
      },
      "execution_count": 18,
      "outputs": [
        {
          "output_type": "stream",
          "name": "stdout",
          "text": [
            "X는 10보다 작지 않아!\n"
          ]
        }
      ]
    },
    {
      "cell_type": "code",
      "source": [
        "#조건문 사용 예제-4 변형\n",
        "X=2\n",
        "\n",
        "if X%2 == 0:\n",
        "    print(\"Even Number\")\n",
        "else:\n",
        "    print(\"Odd Number\")"
      ],
      "metadata": {
        "colab": {
          "base_uri": "https://localhost:8080/"
        },
        "id": "TYDyDsWzR6Jy",
        "outputId": "76cfebb5-b076-4ae7-f5bc-0004726afc3b"
      },
      "execution_count": 19,
      "outputs": [
        {
          "output_type": "stream",
          "name": "stdout",
          "text": [
            "Even Number\n"
          ]
        }
      ]
    },
    {
      "cell_type": "code",
      "source": [
        "#조건문 사용 예제-5\n",
        "X = 3\n",
        "\n",
        "if X < 10:\n",
        "  print('X는 10보다 작아!')\n",
        "  if X%2 == 0:\n",
        "      print('X는 짝수야!')\n",
        "  else:\n",
        "      print('X는 홀수야!')\n",
        "else:\n",
        "  print('X는 10보다 커!')\n",
        "  if X%2 == 0:\n",
        "      print('X는 짝수야!')\n",
        "  else:\n",
        "      print('X는 홀수야!')"
      ],
      "metadata": {
        "colab": {
          "base_uri": "https://localhost:8080/"
        },
        "id": "oqs2D5MmUWpT",
        "outputId": "bd2b5d51-6213-4b3a-8821-facbecc955e9"
      },
      "execution_count": 20,
      "outputs": [
        {
          "output_type": "stream",
          "name": "stdout",
          "text": [
            "X는 10보다 작아!\n",
            "X는 홀수야!\n"
          ]
        }
      ]
    },
    {
      "cell_type": "code",
      "source": [
        "#조건문 사용 예제-6\n",
        "if X<10 and X%2 == 0:\n",
        "    print('X는 10보다 작으면서 짝수야!')\n",
        "if X<10 and not X%2 == 0:\n",
        "    print('X는 10보다 작으면서 홀수야!')\n",
        "if not X<10 and X%2 == 0:\n",
        "    print('X는 10보다 크면서 짝수야!')\n",
        "if not X<10 and not X%2 == 0:\n",
        "    print('X는 10보다 크면서 홀수야!')"
      ],
      "metadata": {
        "colab": {
          "base_uri": "https://localhost:8080/"
        },
        "id": "tVLCtGq7V5-n",
        "outputId": "4ea62bef-18a5-40d8-cffb-4bb60683210d"
      },
      "execution_count": 21,
      "outputs": [
        {
          "output_type": "stream",
          "name": "stdout",
          "text": [
            "X는 10보다 작으면서 홀수야!\n"
          ]
        }
      ]
    },
    {
      "cell_type": "code",
      "source": [
        "#while문 사용 예시\n",
        "treeHit = 0\n",
        "\n",
        "while treeHit < 10:\n",
        "    treeHit = treeHit +1\n",
        "    print(\"나무를 %d번 찍었습니다.\" % treeHit)\n",
        "    if treeHit == 10:\n",
        "        print(\"나무 넘어갑니다.\")"
      ],
      "metadata": {
        "colab": {
          "base_uri": "https://localhost:8080/"
        },
        "id": "B9mVVInIXbIz",
        "outputId": "a0a9df76-106c-497c-c4e0-57bc4ac179c7"
      },
      "execution_count": 22,
      "outputs": [
        {
          "output_type": "stream",
          "name": "stdout",
          "text": [
            "나무를 1번 찍었습니다.\n",
            "나무를 2번 찍었습니다.\n",
            "나무를 3번 찍었습니다.\n",
            "나무를 4번 찍었습니다.\n",
            "나무를 5번 찍었습니다.\n",
            "나무를 6번 찍었습니다.\n",
            "나무를 7번 찍었습니다.\n",
            "나무를 8번 찍었습니다.\n",
            "나무를 9번 찍었습니다.\n",
            "나무를 10번 찍었습니다.\n",
            "나무 넘어갑니다.\n"
          ]
        }
      ]
    },
    {
      "cell_type": "code",
      "source": [
        "#break문 사용 예시\n",
        "coffee = 10\n",
        "money = 300\n",
        "while money:\n",
        "    print(\"돈을 받았으니 커피를 줍니다\")\n",
        "    coffee = coffee -1\n",
        "    #break를 쓰면 여기서 멈춤\n",
        "    print(\"남은 커피의 양은 %d개입니다.\" % coffee)\n",
        "    if coffee == 0:\n",
        "        print(\"커피가 다 떨어졌습니다. 판매를 중지합니다.\")\n",
        "        break"
      ],
      "metadata": {
        "colab": {
          "base_uri": "https://localhost:8080/"
        },
        "id": "ogBnrhCmX1Tu",
        "outputId": "aea66e08-80ac-4141-b67a-edf5c2ede183"
      },
      "execution_count": 24,
      "outputs": [
        {
          "output_type": "stream",
          "name": "stdout",
          "text": [
            "돈을 받았으니 커피를 줍니다\n"
          ]
        }
      ]
    },
    {
      "cell_type": "code",
      "source": [
        "while True:\n",
        "    print(\"Ctrl+C를 눌러야 while문을 빠져나갈 수 있습니다.\")"
      ],
      "metadata": {
        "id": "liuqBXcPaO4g"
      },
      "execution_count": null,
      "outputs": []
    },
    {
      "cell_type": "code",
      "source": [
        "#예제1) 1~100까지 짝수를 더하는 코드 1번 방법\n",
        "i = 0\n",
        "result1 = 0\n",
        "while i < 100:\n",
        "    i = i + 1\n",
        "    if i % 2 == 0:\n",
        "        print('1번 방법 : {0} {1}'.format(i,result1))\n",
        "        result1 = result1 + i\n",
        "\n",
        "print('1번 방법 : {0}'.format(result1))"
      ],
      "metadata": {
        "colab": {
          "base_uri": "https://localhost:8080/"
        },
        "id": "Sc7BjpngaWAS",
        "outputId": "46dc79f1-6637-4270-fcd9-3bf122681655"
      },
      "execution_count": 2,
      "outputs": [
        {
          "output_type": "stream",
          "name": "stdout",
          "text": [
            "1번 방법 : 2 0\n",
            "1번 방법 : 4 2\n",
            "1번 방법 : 6 6\n",
            "1번 방법 : 8 12\n",
            "1번 방법 : 10 20\n",
            "1번 방법 : 12 30\n",
            "1번 방법 : 14 42\n",
            "1번 방법 : 16 56\n",
            "1번 방법 : 18 72\n",
            "1번 방법 : 20 90\n",
            "1번 방법 : 22 110\n",
            "1번 방법 : 24 132\n",
            "1번 방법 : 26 156\n",
            "1번 방법 : 28 182\n",
            "1번 방법 : 30 210\n",
            "1번 방법 : 32 240\n",
            "1번 방법 : 34 272\n",
            "1번 방법 : 36 306\n",
            "1번 방법 : 38 342\n",
            "1번 방법 : 40 380\n",
            "1번 방법 : 42 420\n",
            "1번 방법 : 44 462\n",
            "1번 방법 : 46 506\n",
            "1번 방법 : 48 552\n",
            "1번 방법 : 50 600\n",
            "1번 방법 : 52 650\n",
            "1번 방법 : 54 702\n",
            "1번 방법 : 56 756\n",
            "1번 방법 : 58 812\n",
            "1번 방법 : 60 870\n",
            "1번 방법 : 62 930\n",
            "1번 방법 : 64 992\n",
            "1번 방법 : 66 1056\n",
            "1번 방법 : 68 1122\n",
            "1번 방법 : 70 1190\n",
            "1번 방법 : 72 1260\n",
            "1번 방법 : 74 1332\n",
            "1번 방법 : 76 1406\n",
            "1번 방법 : 78 1482\n",
            "1번 방법 : 80 1560\n",
            "1번 방법 : 82 1640\n",
            "1번 방법 : 84 1722\n",
            "1번 방법 : 86 1806\n",
            "1번 방법 : 88 1892\n",
            "1번 방법 : 90 1980\n",
            "1번 방법 : 92 2070\n",
            "1번 방법 : 94 2162\n",
            "1번 방법 : 96 2256\n",
            "1번 방법 : 98 2352\n",
            "1번 방법 : 100 2450\n",
            "1번 방법 : 2550\n"
          ]
        }
      ]
    },
    {
      "cell_type": "code",
      "source": [
        "# 2번 방법 (break 이용)\n",
        "j = 0\n",
        "result2 = 0\n",
        "while True:\n",
        "    if j > 100:\n",
        "        break\n",
        "\n",
        "    j = j + 1\n",
        "    if j % 2 == 0:\n",
        "        result2 = result2 + j\n",
        "        print('2번 방법 (break) : {0}'.format(result2))"
      ],
      "metadata": {
        "colab": {
          "base_uri": "https://localhost:8080/"
        },
        "id": "tD4hV6iobbZ4",
        "outputId": "229e8cf1-57cc-4d71-ad9e-e0af108687c6"
      },
      "execution_count": 5,
      "outputs": [
        {
          "output_type": "stream",
          "name": "stdout",
          "text": [
            "2번 방법 (break) : 2\n",
            "2번 방법 (break) : 6\n",
            "2번 방법 (break) : 12\n",
            "2번 방법 (break) : 20\n",
            "2번 방법 (break) : 30\n",
            "2번 방법 (break) : 42\n",
            "2번 방법 (break) : 56\n",
            "2번 방법 (break) : 72\n",
            "2번 방법 (break) : 90\n",
            "2번 방법 (break) : 110\n",
            "2번 방법 (break) : 132\n",
            "2번 방법 (break) : 156\n",
            "2번 방법 (break) : 182\n",
            "2번 방법 (break) : 210\n",
            "2번 방법 (break) : 240\n",
            "2번 방법 (break) : 272\n",
            "2번 방법 (break) : 306\n",
            "2번 방법 (break) : 342\n",
            "2번 방법 (break) : 380\n",
            "2번 방법 (break) : 420\n",
            "2번 방법 (break) : 462\n",
            "2번 방법 (break) : 506\n",
            "2번 방법 (break) : 552\n",
            "2번 방법 (break) : 600\n",
            "2번 방법 (break) : 650\n",
            "2번 방법 (break) : 702\n",
            "2번 방법 (break) : 756\n",
            "2번 방법 (break) : 812\n",
            "2번 방법 (break) : 870\n",
            "2번 방법 (break) : 930\n",
            "2번 방법 (break) : 992\n",
            "2번 방법 (break) : 1056\n",
            "2번 방법 (break) : 1122\n",
            "2번 방법 (break) : 1190\n",
            "2번 방법 (break) : 1260\n",
            "2번 방법 (break) : 1332\n",
            "2번 방법 (break) : 1406\n",
            "2번 방법 (break) : 1482\n",
            "2번 방법 (break) : 1560\n",
            "2번 방법 (break) : 1640\n",
            "2번 방법 (break) : 1722\n",
            "2번 방법 (break) : 1806\n",
            "2번 방법 (break) : 1892\n",
            "2번 방법 (break) : 1980\n",
            "2번 방법 (break) : 2070\n",
            "2번 방법 (break) : 2162\n",
            "2번 방법 (break) : 2256\n",
            "2번 방법 (break) : 2352\n",
            "2번 방법 (break) : 2450\n",
            "2번 방법 (break) : 2550\n"
          ]
        }
      ]
    },
    {
      "cell_type": "code",
      "source": [
        "#3번 방법 (continue 이용)\n",
        "k = 0\n",
        "result3 = 0\n",
        "while k < 100:\n",
        "    k = k + 1\n",
        "    if k % 2 !=0:\n",
        "        callable\n",
        "    result3 = result3 + k\n",
        "print('3번 방법 (continue) : (0)'.format(result3))"
      ],
      "metadata": {
        "colab": {
          "base_uri": "https://localhost:8080/"
        },
        "id": "Wi3Q5P0DcHuu",
        "outputId": "79a2b3d2-1223-43b7-b568-b706e1e382f8"
      },
      "execution_count": 6,
      "outputs": [
        {
          "output_type": "stream",
          "name": "stdout",
          "text": [
            "3번 방법 (continue) : (0)\n"
          ]
        }
      ]
    }
  ]
}