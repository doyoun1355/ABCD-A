{
  "nbformat": 4,
  "nbformat_minor": 0,
  "metadata": {
    "colab": {
      "provenance": [],
      "authorship_tag": "ABX9TyOL4Q+o5R0S3NAP/WS4Zilv",
      "include_colab_link": true
    },
    "kernelspec": {
      "name": "python3",
      "display_name": "Python 3"
    },
    "language_info": {
      "name": "python"
    }
  },
  "cells": [
    {
      "cell_type": "markdown",
      "metadata": {
        "id": "view-in-github",
        "colab_type": "text"
      },
      "source": [
        "<a href=\"https://colab.research.google.com/github/doyoun1355/ABCD-A/blob/20250406/%ED%8C%8C%EC%9D%B4%EC%8D%AC_%EA%B8%B0%EC%B4%88_%EC%9E%85%EB%A0%A5%EB%AC%B8%EA%B3%BC_%EB%B0%98%EB%B3%B5%EB%AC%B8.ipynb\" target=\"_parent\"><img src=\"https://colab.research.google.com/assets/colab-badge.svg\" alt=\"Open In Colab\"/></a>"
      ]
    },
    {
      "cell_type": "code",
      "execution_count": 5,
      "metadata": {
        "colab": {
          "base_uri": "https://localhost:8080/"
        },
        "id": "8pN72oUfWRkB",
        "outputId": "48d0be95-1328-47bc-c44a-0d5b4d4dcc63"
      },
      "outputs": [
        {
          "output_type": "stream",
          "name": "stdout",
          "text": [
            "number : 1\n",
            "1\n"
          ]
        }
      ],
      "source": [
        " x = int(input(\"number : \"))\n",
        " print(x)"
      ]
    },
    {
      "cell_type": "code",
      "source": [
        "year = input(\"this year : \")\n",
        "year = eval(year)\n",
        "year = year + 1\n",
        "print(\"Next year:\" , year)\n",
        ""
      ],
      "metadata": {
        "colab": {
          "base_uri": "https://localhost:8080/"
        },
        "id": "rP0KCUIneVQo",
        "outputId": "afc44400-3472-4dfa-bb9d-f884a2cd8573"
      },
      "execution_count": 6,
      "outputs": [
        {
          "output_type": "stream",
          "name": "stdout",
          "text": [
            "this year : 2025\n",
            "Next year: 2026\n"
          ]
        }
      ]
    },
    {
      "cell_type": "code",
      "source": [
        "i = 0\n",
        "result = 0\n",
        "while i < 5:\n",
        "\tprint(f'{i+1}번째', end = \" \")\n",
        "\ta = input(\"성적 입력 : \")\n",
        "\tresult += int(a)\n",
        "\ti += 1\n",
        "\t2\n",
        "\tprint(f'합 : {result}')\n",
        "\tprint(f'평균 : {result / 5}')\n"
      ],
      "metadata": {
        "id": "IlIn0gLde7k2"
      },
      "execution_count": null,
      "outputs": []
    },
    {
      "cell_type": "code",
      "source": [
        "test_list = ['one', 'two', 'three']\n",
        "for i in test_list:\n",
        "\tprint(i)"
      ],
      "metadata": {
        "id": "yVHqdcQie9v1"
      },
      "execution_count": null,
      "outputs": []
    },
    {
      "cell_type": "code",
      "source": [
        "for i in range(1, 10):\n",
        "\tprint(i)"
      ],
      "metadata": {
        "id": "BbQGWlT3fC5P"
      },
      "execution_count": null,
      "outputs": []
    },
    {
      "cell_type": "code",
      "source": [
        "result = 0\n",
        "for a in range(1, 101): #1 ~ 100\n",
        "\n",
        "\tresult = result + a\n",
        "\tprint(f'{a} {result}')\n",
        "\n",
        "print(result)"
      ],
      "metadata": {
        "id": "NZicliFLfENr"
      },
      "execution_count": null,
      "outputs": []
    },
    {
      "cell_type": "code",
      "source": [
        "result = 0\n",
        "for a in range(1, 101):\n",
        "\tresult = result + a\n",
        "\tprint(f'{a} : sum = {result}')\n",
        "\tif result > 100:\n",
        "\t\t\tbreak\n",
        "\n",
        "\tprint(result)"
      ],
      "metadata": {
        "id": "wK6_dcJ6fGbZ"
      },
      "execution_count": null,
      "outputs": []
    },
    {
      "cell_type": "code",
      "source": [
        "index = 0\n",
        "s = \"BlockDMask\"\n",
        "for a in s:\n",
        "\tprint(a, end=' ')\n",
        "\tif a == 'k':\n",
        "\t\tbreak\n",
        "\n",
        "\tindex = index + 1\n",
        "\n",
        "print(index)"
      ],
      "metadata": {
        "id": "PujEsOThfJ5p"
      },
      "execution_count": null,
      "outputs": []
    },
    {
      "cell_type": "code",
      "source": [
        "student = [180, 170, 164, 199, 182, 172, 177]\n",
        "for a in student:\n",
        "  if a > 170:\n",
        "\n",
        "    continue\n",
        "\n",
        "  print(a)"
      ],
      "metadata": {
        "id": "7y-zsv8ofMDK"
      },
      "execution_count": null,
      "outputs": []
    },
    {
      "cell_type": "code",
      "source": [
        "result = 0\n",
        "for a in range(1, 101):\n",
        "\tif a % 2 == 0:\n",
        "\n",
        "\t\tcontinue\n",
        "\tresult = result + a\n",
        "\n",
        "print(result)"
      ],
      "metadata": {
        "id": "QyEN85zgfOi8"
      },
      "execution_count": null,
      "outputs": []
    },
    {
      "cell_type": "code",
      "source": [
        "l = ['Alice' , 'Bob' , 'Charlie']\n",
        "\n",
        "for name in l:\n",
        "    if name == 'Bob':\n",
        "        print('!!BREAK!!')\n",
        "        break\n",
        "    print(name)\n",
        "else:\n",
        "    print('!!FINISH!!')"
      ],
      "metadata": {
        "id": "jPDcdRkUfQrd"
      },
      "execution_count": null,
      "outputs": []
    },
    {
      "cell_type": "code",
      "source": [
        "sr = ['father', 'mother', 'brother']\n",
        "cnt = 0\n",
        "for s in sr:\n",
        "        for c in s:\n",
        "            if c == 'r':\n",
        "                cnt += 1\n",
        "print(cnt)"
      ],
      "metadata": {
        "id": "UWf1VVc3fSKk"
      },
      "execution_count": null,
      "outputs": []
    },
    {
      "cell_type": "code",
      "source": [
        "a = []\n",
        "\n",
        "for i in range(10):\n",
        "    a.append(0)\n",
        "\n",
        "print(a)"
      ],
      "metadata": {
        "id": "JcveT1d4fTig"
      },
      "execution_count": null,
      "outputs": []
    },
    {
      "cell_type": "code",
      "source": [
        "a = []\n",
        "\n",
        "for i in range(3):\n",
        "    line = []\n",
        "    for j in range(2):\n",
        "        line.append(0)\n",
        "    a.append(line)\n",
        "\n",
        "print(a)"
      ],
      "metadata": {
        "id": "0R051wKrfVJa"
      },
      "execution_count": null,
      "outputs": []
    },
    {
      "cell_type": "code",
      "source": [
        "l = ['Alice', 'Bob', 'Charlie']\n",
        "\n",
        "for name in l:\n",
        "    print(name)\n",
        "\n",
        "for i, name in enumerate(l):\n",
        "    print(i, name)\n",
        ""
      ],
      "metadata": {
        "id": "QakNL-atfW2n"
      },
      "execution_count": null,
      "outputs": []
    },
    {
      "cell_type": "code",
      "source": [
        "for i, name in enumerate(l, 1):\n",
        "    print(i, name)\n",
        "\n",
        "for i, name in enumerate(l, 42):\n",
        "    print(i, name)"
      ],
      "metadata": {
        "id": "aK7ZyBnzfYC1"
      },
      "execution_count": null,
      "outputs": []
    },
    {
      "cell_type": "code",
      "source": [
        "print(list(range(0, 10, 3)))"
      ],
      "metadata": {
        "id": "uwUHSBw3fZLq"
      },
      "execution_count": null,
      "outputs": []
    },
    {
      "cell_type": "code",
      "source": [
        "print(list(range(0, 10, -3)))"
      ],
      "metadata": {
        "id": "BlEiainUfaoU"
      },
      "execution_count": null,
      "outputs": []
    },
    {
      "cell_type": "code",
      "source": [
        "for i in range(0, 10, -3):\n",
        "    print"
      ],
      "metadata": {
        "id": "KKjWXY9mfbyS"
      },
      "execution_count": 7,
      "outputs": []
    }
  ]
}